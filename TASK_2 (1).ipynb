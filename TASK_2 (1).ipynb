{
  "nbformat": 4,
  "nbformat_minor": 0,
  "metadata": {
    "colab": {
      "provenance": []
    },
    "kernelspec": {
      "name": "python3",
      "display_name": "Python 3"
    },
    "language_info": {
      "name": "python"
    }
  },
  "cells": [
    {
      "cell_type": "code",
      "execution_count": null,
      "metadata": {
        "id": "rI6v171ZHSdX"
      },
      "outputs": [],
      "source": [
        "# Import necessary libraries\n",
        "import pandas as pd\n",
        "import numpy as np\n",
        "from sklearn.metrics.pairwise import cosine_similarity\n",
        "from sklearn.preprocessing import MinMaxScaler"
      ]
    },
    {
      "cell_type": "code",
      "source": [
        "# Load the datasets\n",
        "customers = pd.read_csv('Customers.csv')\n",
        "products = pd.read_csv('Products.csv')\n",
        "transactions = pd.read_csv('Transactions.csv')"
      ],
      "metadata": {
        "id": "Sed9viDRHZYy"
      },
      "execution_count": null,
      "outputs": []
    },
    {
      "cell_type": "code",
      "source": [
        "# Merge datasets for comprehensive analysis\n",
        "merged_data = transactions.merge(customers, on='CustomerID').merge(products, on='ProductID')"
      ],
      "metadata": {
        "id": "G_MnXYpXHbDz"
      },
      "execution_count": null,
      "outputs": []
    },
    {
      "cell_type": "markdown",
      "source": [
        "# -----------------------------------------------------------------\n",
        "# Step 1: Data Preparation\n",
        "# -----------------------------------------------------------------"
      ],
      "metadata": {
        "id": "62-NJ18mHfO3"
      }
    },
    {
      "cell_type": "code",
      "source": [
        "# Aggregate transaction data for each customer\n",
        "customer_transactions = merged_data.groupby('CustomerID').agg({\n",
        "    'TotalValue': 'sum',                # Total spend\n",
        "    'TransactionID': 'count',           # Total number of transactions\n",
        "    'ProductName': lambda x: ','.join(x),  # List of products purchased\n",
        "    'Category': lambda x: ','.join(x)  # List of categories purchased\n",
        "}).reset_index()\n",
        "\n",
        "customer_transactions.rename(columns={\n",
        "    'TotalValue': 'TotalSpend',\n",
        "    'TransactionID': 'TransactionCount'\n",
        "}, inplace=True)"
      ],
      "metadata": {
        "id": "8e3H2eG_Hc7H"
      },
      "execution_count": null,
      "outputs": []
    },
    {
      "cell_type": "code",
      "source": [
        "# Create a one-hot encoding for categories purchased\n",
        "categories_one_hot = pd.get_dummies(merged_data[['CustomerID', 'Category']], columns=['Category'])\n",
        "categories_agg = categories_one_hot.groupby('CustomerID').sum()\n"
      ],
      "metadata": {
        "id": "6-bEn2YYHhbR"
      },
      "execution_count": null,
      "outputs": []
    },
    {
      "cell_type": "code",
      "source": [
        "# Combine customer data with aggregated transaction data\n",
        "customer_profiles = customers.merge(customer_transactions, on='CustomerID').merge(categories_agg, on='CustomerID')\n"
      ],
      "metadata": {
        "id": "sADYt2ZFHjq4"
      },
      "execution_count": null,
      "outputs": []
    },
    {
      "cell_type": "markdown",
      "source": [
        "\n",
        "# -----------------------------------------------------------------\n",
        "# Step 2: Feature Engineering\n",
        "# -----------------------------------------------------------------"
      ],
      "metadata": {
        "id": "U3I-C61rHoCG"
      }
    },
    {
      "cell_type": "code",
      "source": [
        " #Convert 'Region' into numerical format (e.g., one-hot encoding)\n",
        "customer_profiles = pd.get_dummies(customer_profiles, columns=['Region'])"
      ],
      "metadata": {
        "id": "9pss_08bHmcM"
      },
      "execution_count": null,
      "outputs": []
    },
    {
      "cell_type": "code",
      "source": [
        "customer_profiles.head(2)"
      ],
      "metadata": {
        "colab": {
          "base_uri": "https://localhost:8080/",
          "height": 219
        },
        "id": "BnHe5MubHqnu",
        "outputId": "c11a197e-943f-48b6-dc50-11eab93124d4"
      },
      "execution_count": null,
      "outputs": [
        {
          "output_type": "execute_result",
          "data": {
            "text/plain": [
              "  CustomerID      CustomerName  SignupDate  TotalSpend  TransactionCount  \\\n",
              "0      C0001  Lawrence Carroll  2022-07-10     3354.52                 5   \n",
              "1      C0002    Elizabeth Lutz  2022-02-13     1862.74                 4   \n",
              "\n",
              "                                         ProductName  \\\n",
              "0  SoundWave Cookbook,HomeSense Wall Art,SoundWav...   \n",
              "1  BookWorld Cookware Set,BookWorld Rug,ComfortLi...   \n",
              "\n",
              "                                            Category  Category_Books  \\\n",
              "0  Books,Home Decor,Electronics,Electronics,Elect...               1   \n",
              "1            Home Decor,Home Decor,Clothing,Clothing               0   \n",
              "\n",
              "   Category_Clothing  Category_Electronics  Category_Home Decor  Region_Asia  \\\n",
              "0                  0                     3                    1        False   \n",
              "1                  2                     0                    2         True   \n",
              "\n",
              "   Region_Europe  Region_North America  Region_South America  \n",
              "0          False                 False                  True  \n",
              "1          False                 False                 False  "
            ],
            "text/html": [
              "\n",
              "  <div id=\"df-c01d4f03-2704-4dd0-b54e-a53e9baa947f\" class=\"colab-df-container\">\n",
              "    <div>\n",
              "<style scoped>\n",
              "    .dataframe tbody tr th:only-of-type {\n",
              "        vertical-align: middle;\n",
              "    }\n",
              "\n",
              "    .dataframe tbody tr th {\n",
              "        vertical-align: top;\n",
              "    }\n",
              "\n",
              "    .dataframe thead th {\n",
              "        text-align: right;\n",
              "    }\n",
              "</style>\n",
              "<table border=\"1\" class=\"dataframe\">\n",
              "  <thead>\n",
              "    <tr style=\"text-align: right;\">\n",
              "      <th></th>\n",
              "      <th>CustomerID</th>\n",
              "      <th>CustomerName</th>\n",
              "      <th>SignupDate</th>\n",
              "      <th>TotalSpend</th>\n",
              "      <th>TransactionCount</th>\n",
              "      <th>ProductName</th>\n",
              "      <th>Category</th>\n",
              "      <th>Category_Books</th>\n",
              "      <th>Category_Clothing</th>\n",
              "      <th>Category_Electronics</th>\n",
              "      <th>Category_Home Decor</th>\n",
              "      <th>Region_Asia</th>\n",
              "      <th>Region_Europe</th>\n",
              "      <th>Region_North America</th>\n",
              "      <th>Region_South America</th>\n",
              "    </tr>\n",
              "  </thead>\n",
              "  <tbody>\n",
              "    <tr>\n",
              "      <th>0</th>\n",
              "      <td>C0001</td>\n",
              "      <td>Lawrence Carroll</td>\n",
              "      <td>2022-07-10</td>\n",
              "      <td>3354.52</td>\n",
              "      <td>5</td>\n",
              "      <td>SoundWave Cookbook,HomeSense Wall Art,SoundWav...</td>\n",
              "      <td>Books,Home Decor,Electronics,Electronics,Elect...</td>\n",
              "      <td>1</td>\n",
              "      <td>0</td>\n",
              "      <td>3</td>\n",
              "      <td>1</td>\n",
              "      <td>False</td>\n",
              "      <td>False</td>\n",
              "      <td>False</td>\n",
              "      <td>True</td>\n",
              "    </tr>\n",
              "    <tr>\n",
              "      <th>1</th>\n",
              "      <td>C0002</td>\n",
              "      <td>Elizabeth Lutz</td>\n",
              "      <td>2022-02-13</td>\n",
              "      <td>1862.74</td>\n",
              "      <td>4</td>\n",
              "      <td>BookWorld Cookware Set,BookWorld Rug,ComfortLi...</td>\n",
              "      <td>Home Decor,Home Decor,Clothing,Clothing</td>\n",
              "      <td>0</td>\n",
              "      <td>2</td>\n",
              "      <td>0</td>\n",
              "      <td>2</td>\n",
              "      <td>True</td>\n",
              "      <td>False</td>\n",
              "      <td>False</td>\n",
              "      <td>False</td>\n",
              "    </tr>\n",
              "  </tbody>\n",
              "</table>\n",
              "</div>\n",
              "    <div class=\"colab-df-buttons\">\n",
              "\n",
              "  <div class=\"colab-df-container\">\n",
              "    <button class=\"colab-df-convert\" onclick=\"convertToInteractive('df-c01d4f03-2704-4dd0-b54e-a53e9baa947f')\"\n",
              "            title=\"Convert this dataframe to an interactive table.\"\n",
              "            style=\"display:none;\">\n",
              "\n",
              "  <svg xmlns=\"http://www.w3.org/2000/svg\" height=\"24px\" viewBox=\"0 -960 960 960\">\n",
              "    <path d=\"M120-120v-720h720v720H120Zm60-500h600v-160H180v160Zm220 220h160v-160H400v160Zm0 220h160v-160H400v160ZM180-400h160v-160H180v160Zm440 0h160v-160H620v160ZM180-180h160v-160H180v160Zm440 0h160v-160H620v160Z\"/>\n",
              "  </svg>\n",
              "    </button>\n",
              "\n",
              "  <style>\n",
              "    .colab-df-container {\n",
              "      display:flex;\n",
              "      gap: 12px;\n",
              "    }\n",
              "\n",
              "    .colab-df-convert {\n",
              "      background-color: #E8F0FE;\n",
              "      border: none;\n",
              "      border-radius: 50%;\n",
              "      cursor: pointer;\n",
              "      display: none;\n",
              "      fill: #1967D2;\n",
              "      height: 32px;\n",
              "      padding: 0 0 0 0;\n",
              "      width: 32px;\n",
              "    }\n",
              "\n",
              "    .colab-df-convert:hover {\n",
              "      background-color: #E2EBFA;\n",
              "      box-shadow: 0px 1px 2px rgba(60, 64, 67, 0.3), 0px 1px 3px 1px rgba(60, 64, 67, 0.15);\n",
              "      fill: #174EA6;\n",
              "    }\n",
              "\n",
              "    .colab-df-buttons div {\n",
              "      margin-bottom: 4px;\n",
              "    }\n",
              "\n",
              "    [theme=dark] .colab-df-convert {\n",
              "      background-color: #3B4455;\n",
              "      fill: #D2E3FC;\n",
              "    }\n",
              "\n",
              "    [theme=dark] .colab-df-convert:hover {\n",
              "      background-color: #434B5C;\n",
              "      box-shadow: 0px 1px 3px 1px rgba(0, 0, 0, 0.15);\n",
              "      filter: drop-shadow(0px 1px 2px rgba(0, 0, 0, 0.3));\n",
              "      fill: #FFFFFF;\n",
              "    }\n",
              "  </style>\n",
              "\n",
              "    <script>\n",
              "      const buttonEl =\n",
              "        document.querySelector('#df-c01d4f03-2704-4dd0-b54e-a53e9baa947f button.colab-df-convert');\n",
              "      buttonEl.style.display =\n",
              "        google.colab.kernel.accessAllowed ? 'block' : 'none';\n",
              "\n",
              "      async function convertToInteractive(key) {\n",
              "        const element = document.querySelector('#df-c01d4f03-2704-4dd0-b54e-a53e9baa947f');\n",
              "        const dataTable =\n",
              "          await google.colab.kernel.invokeFunction('convertToInteractive',\n",
              "                                                    [key], {});\n",
              "        if (!dataTable) return;\n",
              "\n",
              "        const docLinkHtml = 'Like what you see? Visit the ' +\n",
              "          '<a target=\"_blank\" href=https://colab.research.google.com/notebooks/data_table.ipynb>data table notebook</a>'\n",
              "          + ' to learn more about interactive tables.';\n",
              "        element.innerHTML = '';\n",
              "        dataTable['output_type'] = 'display_data';\n",
              "        await google.colab.output.renderOutput(dataTable, element);\n",
              "        const docLink = document.createElement('div');\n",
              "        docLink.innerHTML = docLinkHtml;\n",
              "        element.appendChild(docLink);\n",
              "      }\n",
              "    </script>\n",
              "  </div>\n",
              "\n",
              "\n",
              "<div id=\"df-01595c46-6c0b-4ccf-8de5-e58f8df9ac2d\">\n",
              "  <button class=\"colab-df-quickchart\" onclick=\"quickchart('df-01595c46-6c0b-4ccf-8de5-e58f8df9ac2d')\"\n",
              "            title=\"Suggest charts\"\n",
              "            style=\"display:none;\">\n",
              "\n",
              "<svg xmlns=\"http://www.w3.org/2000/svg\" height=\"24px\"viewBox=\"0 0 24 24\"\n",
              "     width=\"24px\">\n",
              "    <g>\n",
              "        <path d=\"M19 3H5c-1.1 0-2 .9-2 2v14c0 1.1.9 2 2 2h14c1.1 0 2-.9 2-2V5c0-1.1-.9-2-2-2zM9 17H7v-7h2v7zm4 0h-2V7h2v10zm4 0h-2v-4h2v4z\"/>\n",
              "    </g>\n",
              "</svg>\n",
              "  </button>\n",
              "\n",
              "<style>\n",
              "  .colab-df-quickchart {\n",
              "      --bg-color: #E8F0FE;\n",
              "      --fill-color: #1967D2;\n",
              "      --hover-bg-color: #E2EBFA;\n",
              "      --hover-fill-color: #174EA6;\n",
              "      --disabled-fill-color: #AAA;\n",
              "      --disabled-bg-color: #DDD;\n",
              "  }\n",
              "\n",
              "  [theme=dark] .colab-df-quickchart {\n",
              "      --bg-color: #3B4455;\n",
              "      --fill-color: #D2E3FC;\n",
              "      --hover-bg-color: #434B5C;\n",
              "      --hover-fill-color: #FFFFFF;\n",
              "      --disabled-bg-color: #3B4455;\n",
              "      --disabled-fill-color: #666;\n",
              "  }\n",
              "\n",
              "  .colab-df-quickchart {\n",
              "    background-color: var(--bg-color);\n",
              "    border: none;\n",
              "    border-radius: 50%;\n",
              "    cursor: pointer;\n",
              "    display: none;\n",
              "    fill: var(--fill-color);\n",
              "    height: 32px;\n",
              "    padding: 0;\n",
              "    width: 32px;\n",
              "  }\n",
              "\n",
              "  .colab-df-quickchart:hover {\n",
              "    background-color: var(--hover-bg-color);\n",
              "    box-shadow: 0 1px 2px rgba(60, 64, 67, 0.3), 0 1px 3px 1px rgba(60, 64, 67, 0.15);\n",
              "    fill: var(--button-hover-fill-color);\n",
              "  }\n",
              "\n",
              "  .colab-df-quickchart-complete:disabled,\n",
              "  .colab-df-quickchart-complete:disabled:hover {\n",
              "    background-color: var(--disabled-bg-color);\n",
              "    fill: var(--disabled-fill-color);\n",
              "    box-shadow: none;\n",
              "  }\n",
              "\n",
              "  .colab-df-spinner {\n",
              "    border: 2px solid var(--fill-color);\n",
              "    border-color: transparent;\n",
              "    border-bottom-color: var(--fill-color);\n",
              "    animation:\n",
              "      spin 1s steps(1) infinite;\n",
              "  }\n",
              "\n",
              "  @keyframes spin {\n",
              "    0% {\n",
              "      border-color: transparent;\n",
              "      border-bottom-color: var(--fill-color);\n",
              "      border-left-color: var(--fill-color);\n",
              "    }\n",
              "    20% {\n",
              "      border-color: transparent;\n",
              "      border-left-color: var(--fill-color);\n",
              "      border-top-color: var(--fill-color);\n",
              "    }\n",
              "    30% {\n",
              "      border-color: transparent;\n",
              "      border-left-color: var(--fill-color);\n",
              "      border-top-color: var(--fill-color);\n",
              "      border-right-color: var(--fill-color);\n",
              "    }\n",
              "    40% {\n",
              "      border-color: transparent;\n",
              "      border-right-color: var(--fill-color);\n",
              "      border-top-color: var(--fill-color);\n",
              "    }\n",
              "    60% {\n",
              "      border-color: transparent;\n",
              "      border-right-color: var(--fill-color);\n",
              "    }\n",
              "    80% {\n",
              "      border-color: transparent;\n",
              "      border-right-color: var(--fill-color);\n",
              "      border-bottom-color: var(--fill-color);\n",
              "    }\n",
              "    90% {\n",
              "      border-color: transparent;\n",
              "      border-bottom-color: var(--fill-color);\n",
              "    }\n",
              "  }\n",
              "</style>\n",
              "\n",
              "  <script>\n",
              "    async function quickchart(key) {\n",
              "      const quickchartButtonEl =\n",
              "        document.querySelector('#' + key + ' button');\n",
              "      quickchartButtonEl.disabled = true;  // To prevent multiple clicks.\n",
              "      quickchartButtonEl.classList.add('colab-df-spinner');\n",
              "      try {\n",
              "        const charts = await google.colab.kernel.invokeFunction(\n",
              "            'suggestCharts', [key], {});\n",
              "      } catch (error) {\n",
              "        console.error('Error during call to suggestCharts:', error);\n",
              "      }\n",
              "      quickchartButtonEl.classList.remove('colab-df-spinner');\n",
              "      quickchartButtonEl.classList.add('colab-df-quickchart-complete');\n",
              "    }\n",
              "    (() => {\n",
              "      let quickchartButtonEl =\n",
              "        document.querySelector('#df-01595c46-6c0b-4ccf-8de5-e58f8df9ac2d button');\n",
              "      quickchartButtonEl.style.display =\n",
              "        google.colab.kernel.accessAllowed ? 'block' : 'none';\n",
              "    })();\n",
              "  </script>\n",
              "</div>\n",
              "\n",
              "    </div>\n",
              "  </div>\n"
            ],
            "application/vnd.google.colaboratory.intrinsic+json": {
              "type": "dataframe",
              "variable_name": "customer_profiles",
              "summary": "{\n  \"name\": \"customer_profiles\",\n  \"rows\": 199,\n  \"fields\": [\n    {\n      \"column\": \"CustomerID\",\n      \"properties\": {\n        \"dtype\": \"string\",\n        \"num_unique_values\": 199,\n        \"samples\": [\n          \"C0083\",\n          \"C0016\",\n          \"C0112\"\n        ],\n        \"semantic_type\": \"\",\n        \"description\": \"\"\n      }\n    },\n    {\n      \"column\": \"CustomerName\",\n      \"properties\": {\n        \"dtype\": \"string\",\n        \"num_unique_values\": 199,\n        \"samples\": [\n          \"Christina Stark\",\n          \"Emily Woods\",\n          \"Brian Adkins\"\n        ],\n        \"semantic_type\": \"\",\n        \"description\": \"\"\n      }\n    },\n    {\n      \"column\": \"SignupDate\",\n      \"properties\": {\n        \"dtype\": \"object\",\n        \"num_unique_values\": 178,\n        \"samples\": [\n          \"2024-06-11\",\n          \"2024-03-22\",\n          \"2024-10-27\"\n        ],\n        \"semantic_type\": \"\",\n        \"description\": \"\"\n      }\n    },\n    {\n      \"column\": \"TotalSpend\",\n      \"properties\": {\n        \"dtype\": \"number\",\n        \"std\": 1832.677958387418,\n        \"min\": 82.36,\n        \"max\": 10673.869999999999,\n        \"num_unique_values\": 199,\n        \"samples\": [\n          642.8,\n          3874.42,\n          1959.51\n        ],\n        \"semantic_type\": \"\",\n        \"description\": \"\"\n      }\n    },\n    {\n      \"column\": \"TransactionCount\",\n      \"properties\": {\n        \"dtype\": \"number\",\n        \"std\": 2,\n        \"min\": 1,\n        \"max\": 11,\n        \"num_unique_values\": 11,\n        \"samples\": [\n          7,\n          5,\n          9\n        ],\n        \"semantic_type\": \"\",\n        \"description\": \"\"\n      }\n    },\n    {\n      \"column\": \"ProductName\",\n      \"properties\": {\n        \"dtype\": \"string\",\n        \"num_unique_values\": 199,\n        \"samples\": [\n          \"HomeSense T-Shirt,SoundWave Cookbook,BookWorld Jacket\",\n          \"TechPro Smartwatch,ActiveWear Running Shoes,ComfortLiving Mystery Book,ActiveWear Smartwatch,ActiveWear Jacket\",\n          \"ActiveWear Textbook,ActiveWear Smartwatch,SoundWave Smartwatch\"\n        ],\n        \"semantic_type\": \"\",\n        \"description\": \"\"\n      }\n    },\n    {\n      \"column\": \"Category\",\n      \"properties\": {\n        \"dtype\": \"string\",\n        \"num_unique_values\": 176,\n        \"samples\": [\n          \"Electronics\",\n          \"Books,Books,Books,Electronics,Home Decor,Home Decor,Home Decor\",\n          \"Home Decor,Home Decor,Clothing\"\n        ],\n        \"semantic_type\": \"\",\n        \"description\": \"\"\n      }\n    },\n    {\n      \"column\": \"Category_Books\",\n      \"properties\": {\n        \"dtype\": \"number\",\n        \"std\": 1,\n        \"min\": 0,\n        \"max\": 5,\n        \"num_unique_values\": 6,\n        \"samples\": [\n          1,\n          0,\n          5\n        ],\n        \"semantic_type\": \"\",\n        \"description\": \"\"\n      }\n    },\n    {\n      \"column\": \"Category_Clothing\",\n      \"properties\": {\n        \"dtype\": \"number\",\n        \"std\": 1,\n        \"min\": 0,\n        \"max\": 5,\n        \"num_unique_values\": 6,\n        \"samples\": [\n          0,\n          2,\n          5\n        ],\n        \"semantic_type\": \"\",\n        \"description\": \"\"\n      }\n    },\n    {\n      \"column\": \"Category_Electronics\",\n      \"properties\": {\n        \"dtype\": \"number\",\n        \"std\": 1,\n        \"min\": 0,\n        \"max\": 5,\n        \"num_unique_values\": 6,\n        \"samples\": [\n          3,\n          0,\n          5\n        ],\n        \"semantic_type\": \"\",\n        \"description\": \"\"\n      }\n    },\n    {\n      \"column\": \"Category_Home Decor\",\n      \"properties\": {\n        \"dtype\": \"number\",\n        \"std\": 1,\n        \"min\": 0,\n        \"max\": 6,\n        \"num_unique_values\": 6,\n        \"samples\": [\n          1,\n          2,\n          6\n        ],\n        \"semantic_type\": \"\",\n        \"description\": \"\"\n      }\n    },\n    {\n      \"column\": \"Region_Asia\",\n      \"properties\": {\n        \"dtype\": \"boolean\",\n        \"num_unique_values\": 2,\n        \"samples\": [\n          true,\n          false\n        ],\n        \"semantic_type\": \"\",\n        \"description\": \"\"\n      }\n    },\n    {\n      \"column\": \"Region_Europe\",\n      \"properties\": {\n        \"dtype\": \"boolean\",\n        \"num_unique_values\": 2,\n        \"samples\": [\n          true,\n          false\n        ],\n        \"semantic_type\": \"\",\n        \"description\": \"\"\n      }\n    },\n    {\n      \"column\": \"Region_North America\",\n      \"properties\": {\n        \"dtype\": \"boolean\",\n        \"num_unique_values\": 2,\n        \"samples\": [\n          true,\n          false\n        ],\n        \"semantic_type\": \"\",\n        \"description\": \"\"\n      }\n    },\n    {\n      \"column\": \"Region_South America\",\n      \"properties\": {\n        \"dtype\": \"boolean\",\n        \"num_unique_values\": 2,\n        \"samples\": [\n          false,\n          true\n        ],\n        \"semantic_type\": \"\",\n        \"description\": \"\"\n      }\n    }\n  ]\n}"
            }
          },
          "metadata": {},
          "execution_count": 8
        }
      ]
    },
    {
      "cell_type": "code",
      "source": [
        "# Features to include in similarity calculation\n",
        "features = ['Region_Asia','Region_Europe','Region_North America','Region_South America', 'TotalSpend', 'TransactionCount'] + list(categories_agg.columns[1:])\n"
      ],
      "metadata": {
        "id": "ON3Zlz2aHvRs"
      },
      "execution_count": null,
      "outputs": []
    },
    {
      "cell_type": "code",
      "source": [
        "# Normalize numerical features\n",
        "scaler = MinMaxScaler()\n",
        "customer_profiles[features] = scaler.fit_transform(customer_profiles[features])\n"
      ],
      "metadata": {
        "id": "niPoJE7pH5ik"
      },
      "execution_count": null,
      "outputs": []
    },
    {
      "cell_type": "code",
      "source": [
        "# Create the feature matrix\n",
        "feature_matrix = customer_profiles[features].set_index(customer_profiles['CustomerID'])"
      ],
      "metadata": {
        "id": "q51rdlU4H78r"
      },
      "execution_count": null,
      "outputs": []
    },
    {
      "cell_type": "markdown",
      "source": [
        "# -----------------------------------------------------------------\n",
        "# Step 3: Similarity Calculation\n",
        "# -----------------------------------------------------------------"
      ],
      "metadata": {
        "id": "PiaXx0XXH_y9"
      }
    },
    {
      "cell_type": "code",
      "source": [
        "# Calculate pairwise cosine similarity\n",
        "similarity_matrix = cosine_similarity(feature_matrix)\n",
        "similarity_df = pd.DataFrame(similarity_matrix, index=customer_profiles['CustomerID'], columns=customer_profiles['CustomerID'])\n"
      ],
      "metadata": {
        "id": "TI7VyZLrH9x7"
      },
      "execution_count": null,
      "outputs": []
    },
    {
      "cell_type": "markdown",
      "source": [
        "# -----------------------------------------------------------------\n",
        "# Step 4: Recommendation\n",
        "# -----------------------------------------------------------------"
      ],
      "metadata": {
        "id": "kI-LmPCUID4J"
      }
    },
    {
      "cell_type": "code",
      "source": [
        "# Get top 3 most similar customers for each of the first 20 customers\n",
        "lookalike_map = {}\n",
        "for customer_id in customers['CustomerID'][:20]:\n",
        "    similar_customers = similarity_df.loc[customer_id].sort_values(ascending=False).iloc[1:4]  # Exclude self (highest similarity)\n",
        "    lookalike_map[customer_id] = list(zip(similar_customers.index, similar_customers.values))"
      ],
      "metadata": {
        "id": "0C9Bq2Y0ICSB"
      },
      "execution_count": null,
      "outputs": []
    },
    {
      "cell_type": "code",
      "source": [
        "# Create Lookalike.csv\n",
        "lookalike_df = pd.DataFrame({\n",
        "    'CustomerID': lookalike_map.keys(),\n",
        "    'Lookalikes': [str(val) for val in lookalike_map.values()]\n",
        "})\n",
        "lookalike_df.to_csv('Lookalike.csv', index=False)\n"
      ],
      "metadata": {
        "id": "ofC-ZXaeIHiv"
      },
      "execution_count": null,
      "outputs": []
    },
    {
      "cell_type": "markdown",
      "source": [
        "# -----------------------------------------------------------------\n",
        "# Step 5: Output Recommendations\n",
        "# -----------------------------------------------------------------"
      ],
      "metadata": {
        "id": "eQ1Vm26nIK4J"
      }
    },
    {
      "cell_type": "code",
      "source": [
        "# Display recommendations for the first 20 customers\n",
        "for customer, lookalikes in lookalike_map.items():\n",
        "    print(f\"Customer {customer}:\")\n",
        "    for lookalike, score in lookalikes:\n",
        "        print(f\"   Similar Customer: {lookalike}, Similarity Score: {score:.2f}\")"
      ],
      "metadata": {
        "colab": {
          "base_uri": "https://localhost:8080/"
        },
        "id": "RTTx-vN6IJM3",
        "outputId": "07cb36ca-b2b4-4b22-8a0a-0cace38e13ec"
      },
      "execution_count": null,
      "outputs": [
        {
          "output_type": "stream",
          "name": "stdout",
          "text": [
            "Customer C0001:\n",
            "   Similar Customer: C0091, Similarity Score: 0.98\n",
            "   Similar Customer: C0191, Similarity Score: 0.98\n",
            "   Similar Customer: C0120, Similarity Score: 0.98\n",
            "Customer C0002:\n",
            "   Similar Customer: C0134, Similarity Score: 0.99\n",
            "   Similar Customer: C0178, Similarity Score: 0.98\n",
            "   Similar Customer: C0159, Similarity Score: 0.98\n",
            "Customer C0003:\n",
            "   Similar Customer: C0031, Similarity Score: 1.00\n",
            "   Similar Customer: C0158, Similarity Score: 1.00\n",
            "   Similar Customer: C0129, Similarity Score: 0.99\n",
            "Customer C0004:\n",
            "   Similar Customer: C0113, Similarity Score: 0.99\n",
            "   Similar Customer: C0163, Similarity Score: 0.98\n",
            "   Similar Customer: C0012, Similarity Score: 0.98\n",
            "Customer C0005:\n",
            "   Similar Customer: C0007, Similarity Score: 1.00\n",
            "   Similar Customer: C0146, Similarity Score: 1.00\n",
            "   Similar Customer: C0186, Similarity Score: 0.99\n",
            "Customer C0006:\n",
            "   Similar Customer: C0187, Similarity Score: 0.99\n",
            "   Similar Customer: C0158, Similarity Score: 0.97\n",
            "   Similar Customer: C0133, Similarity Score: 0.97\n",
            "Customer C0007:\n",
            "   Similar Customer: C0005, Similarity Score: 1.00\n",
            "   Similar Customer: C0146, Similarity Score: 1.00\n",
            "   Similar Customer: C0115, Similarity Score: 0.99\n",
            "Customer C0008:\n",
            "   Similar Customer: C0194, Similarity Score: 0.97\n",
            "   Similar Customer: C0059, Similarity Score: 0.97\n",
            "   Similar Customer: C0122, Similarity Score: 0.96\n",
            "Customer C0009:\n",
            "   Similar Customer: C0198, Similarity Score: 0.98\n",
            "   Similar Customer: C0061, Similarity Score: 0.98\n",
            "   Similar Customer: C0111, Similarity Score: 0.97\n",
            "Customer C0010:\n",
            "   Similar Customer: C0061, Similarity Score: 0.98\n",
            "   Similar Customer: C0062, Similarity Score: 0.97\n",
            "   Similar Customer: C0009, Similarity Score: 0.97\n",
            "Customer C0011:\n",
            "   Similar Customer: C0126, Similarity Score: 1.00\n",
            "   Similar Customer: C0048, Similarity Score: 0.98\n",
            "   Similar Customer: C0169, Similarity Score: 0.98\n",
            "Customer C0012:\n",
            "   Similar Customer: C0163, Similarity Score: 0.99\n",
            "   Similar Customer: C0104, Similarity Score: 0.99\n",
            "   Similar Customer: C0152, Similarity Score: 0.98\n",
            "Customer C0013:\n",
            "   Similar Customer: C0102, Similarity Score: 0.98\n",
            "   Similar Customer: C0188, Similarity Score: 0.98\n",
            "   Similar Customer: C0107, Similarity Score: 0.98\n",
            "Customer C0014:\n",
            "   Similar Customer: C0060, Similarity Score: 1.00\n",
            "   Similar Customer: C0063, Similarity Score: 0.98\n",
            "   Similar Customer: C0073, Similarity Score: 0.97\n",
            "Customer C0015:\n",
            "   Similar Customer: C0131, Similarity Score: 0.99\n",
            "   Similar Customer: C0144, Similarity Score: 0.98\n",
            "   Similar Customer: C0036, Similarity Score: 0.98\n",
            "Customer C0016:\n",
            "   Similar Customer: C0183, Similarity Score: 1.00\n",
            "   Similar Customer: C0067, Similarity Score: 0.99\n",
            "   Similar Customer: C0072, Similarity Score: 0.99\n",
            "Customer C0017:\n",
            "   Similar Customer: C0075, Similarity Score: 0.99\n",
            "   Similar Customer: C0051, Similarity Score: 0.99\n",
            "   Similar Customer: C0057, Similarity Score: 0.99\n",
            "Customer C0018:\n",
            "   Similar Customer: C0035, Similarity Score: 0.98\n",
            "   Similar Customer: C0125, Similarity Score: 0.98\n",
            "   Similar Customer: C0026, Similarity Score: 0.98\n",
            "Customer C0019:\n",
            "   Similar Customer: C0070, Similarity Score: 0.97\n",
            "   Similar Customer: C0023, Similarity Score: 0.97\n",
            "   Similar Customer: C0057, Similarity Score: 0.96\n",
            "Customer C0020:\n",
            "   Similar Customer: C0015, Similarity Score: 0.96\n",
            "   Similar Customer: C0058, Similarity Score: 0.96\n",
            "   Similar Customer: C0033, Similarity Score: 0.96\n"
          ]
        }
      ]
    },
    {
      "cell_type": "code",
      "source": [],
      "metadata": {
        "id": "2rjssG0DINhb"
      },
      "execution_count": null,
      "outputs": []
    }
  ]
}